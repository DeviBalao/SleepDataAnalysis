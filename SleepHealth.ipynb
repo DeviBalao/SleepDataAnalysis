{
 "cells": [
  {
   "cell_type": "markdown",
   "metadata": {},
   "source": [
    "# Sleep Health - Analysis \n",
    "\n",
    "The Bar charts show that Engineers have the best sleep (the average sleep duration and average quality of sleep is highest for Engineers). The Pie-chart shows that about 90% of Engineers don't have Sleep disorders. \n",
    "\n",
    "According to the Bar charts, Sales Representatives, Scientist and Salesperson have lower average sleep duration and average sleep quality. But there is not enough samples for Sales Representatives and Scientist to make any conclusion. So moving on to the Salesperson category, the Pie-chart for sleep disorder among Salesperson shows that about 90% of them have Insomnia.\n",
    "\n",
    "#### Conclusion:\n",
    "\n",
    "According to the dataset used, Engineers have best sleep, Salespersons have the lowest."
   ]
  },
  {
   "cell_type": "code",
   "execution_count": 2,
   "metadata": {},
   "outputs": [],
   "source": [
    "import pandas as pd\n",
    "import matplotlib.pyplot as plt\n",
    "import csv\n",
    "import scipy.stats as st\n",
    "from sklearn import linear_model"
   ]
  },
  {
   "cell_type": "code",
   "execution_count": 3,
   "metadata": {},
   "outputs": [
    {
     "data": {
      "text/html": [
       "<div>\n",
       "<style scoped>\n",
       "    .dataframe tbody tr th:only-of-type {\n",
       "        vertical-align: middle;\n",
       "    }\n",
       "\n",
       "    .dataframe tbody tr th {\n",
       "        vertical-align: top;\n",
       "    }\n",
       "\n",
       "    .dataframe thead th {\n",
       "        text-align: right;\n",
       "    }\n",
       "</style>\n",
       "<table border=\"1\" class=\"dataframe\">\n",
       "  <thead>\n",
       "    <tr style=\"text-align: right;\">\n",
       "      <th></th>\n",
       "      <th>Person ID</th>\n",
       "      <th>Gender</th>\n",
       "      <th>Age</th>\n",
       "      <th>Occupation</th>\n",
       "      <th>Sleep Duration</th>\n",
       "      <th>Quality of Sleep</th>\n",
       "      <th>Physical Activity Level</th>\n",
       "      <th>Stress Level</th>\n",
       "      <th>BMI Category</th>\n",
       "      <th>Blood Pressure</th>\n",
       "      <th>Heart Rate</th>\n",
       "      <th>Daily Steps</th>\n",
       "      <th>Sleep Disorder</th>\n",
       "    </tr>\n",
       "  </thead>\n",
       "  <tbody>\n",
       "    <tr>\n",
       "      <th>0</th>\n",
       "      <td>1</td>\n",
       "      <td>Male</td>\n",
       "      <td>27</td>\n",
       "      <td>Software Engineer</td>\n",
       "      <td>6.1</td>\n",
       "      <td>6</td>\n",
       "      <td>42</td>\n",
       "      <td>6</td>\n",
       "      <td>Overweight</td>\n",
       "      <td>126/83</td>\n",
       "      <td>77</td>\n",
       "      <td>4200</td>\n",
       "      <td>None</td>\n",
       "    </tr>\n",
       "    <tr>\n",
       "      <th>1</th>\n",
       "      <td>2</td>\n",
       "      <td>Male</td>\n",
       "      <td>28</td>\n",
       "      <td>Doctor</td>\n",
       "      <td>6.2</td>\n",
       "      <td>6</td>\n",
       "      <td>60</td>\n",
       "      <td>8</td>\n",
       "      <td>Normal</td>\n",
       "      <td>125/80</td>\n",
       "      <td>75</td>\n",
       "      <td>10000</td>\n",
       "      <td>None</td>\n",
       "    </tr>\n",
       "    <tr>\n",
       "      <th>2</th>\n",
       "      <td>3</td>\n",
       "      <td>Male</td>\n",
       "      <td>28</td>\n",
       "      <td>Doctor</td>\n",
       "      <td>6.2</td>\n",
       "      <td>6</td>\n",
       "      <td>60</td>\n",
       "      <td>8</td>\n",
       "      <td>Normal</td>\n",
       "      <td>125/80</td>\n",
       "      <td>75</td>\n",
       "      <td>10000</td>\n",
       "      <td>None</td>\n",
       "    </tr>\n",
       "    <tr>\n",
       "      <th>3</th>\n",
       "      <td>4</td>\n",
       "      <td>Male</td>\n",
       "      <td>28</td>\n",
       "      <td>Sales Representative</td>\n",
       "      <td>5.9</td>\n",
       "      <td>4</td>\n",
       "      <td>30</td>\n",
       "      <td>8</td>\n",
       "      <td>Obese</td>\n",
       "      <td>140/90</td>\n",
       "      <td>85</td>\n",
       "      <td>3000</td>\n",
       "      <td>Sleep Apnea</td>\n",
       "    </tr>\n",
       "    <tr>\n",
       "      <th>4</th>\n",
       "      <td>5</td>\n",
       "      <td>Male</td>\n",
       "      <td>28</td>\n",
       "      <td>Sales Representative</td>\n",
       "      <td>5.9</td>\n",
       "      <td>4</td>\n",
       "      <td>30</td>\n",
       "      <td>8</td>\n",
       "      <td>Obese</td>\n",
       "      <td>140/90</td>\n",
       "      <td>85</td>\n",
       "      <td>3000</td>\n",
       "      <td>Sleep Apnea</td>\n",
       "    </tr>\n",
       "    <tr>\n",
       "      <th>...</th>\n",
       "      <td>...</td>\n",
       "      <td>...</td>\n",
       "      <td>...</td>\n",
       "      <td>...</td>\n",
       "      <td>...</td>\n",
       "      <td>...</td>\n",
       "      <td>...</td>\n",
       "      <td>...</td>\n",
       "      <td>...</td>\n",
       "      <td>...</td>\n",
       "      <td>...</td>\n",
       "      <td>...</td>\n",
       "      <td>...</td>\n",
       "    </tr>\n",
       "    <tr>\n",
       "      <th>369</th>\n",
       "      <td>370</td>\n",
       "      <td>Female</td>\n",
       "      <td>59</td>\n",
       "      <td>Nurse</td>\n",
       "      <td>8.1</td>\n",
       "      <td>9</td>\n",
       "      <td>75</td>\n",
       "      <td>3</td>\n",
       "      <td>Overweight</td>\n",
       "      <td>140/95</td>\n",
       "      <td>68</td>\n",
       "      <td>7000</td>\n",
       "      <td>Sleep Apnea</td>\n",
       "    </tr>\n",
       "    <tr>\n",
       "      <th>370</th>\n",
       "      <td>371</td>\n",
       "      <td>Female</td>\n",
       "      <td>59</td>\n",
       "      <td>Nurse</td>\n",
       "      <td>8.0</td>\n",
       "      <td>9</td>\n",
       "      <td>75</td>\n",
       "      <td>3</td>\n",
       "      <td>Overweight</td>\n",
       "      <td>140/95</td>\n",
       "      <td>68</td>\n",
       "      <td>7000</td>\n",
       "      <td>Sleep Apnea</td>\n",
       "    </tr>\n",
       "    <tr>\n",
       "      <th>371</th>\n",
       "      <td>372</td>\n",
       "      <td>Female</td>\n",
       "      <td>59</td>\n",
       "      <td>Nurse</td>\n",
       "      <td>8.1</td>\n",
       "      <td>9</td>\n",
       "      <td>75</td>\n",
       "      <td>3</td>\n",
       "      <td>Overweight</td>\n",
       "      <td>140/95</td>\n",
       "      <td>68</td>\n",
       "      <td>7000</td>\n",
       "      <td>Sleep Apnea</td>\n",
       "    </tr>\n",
       "    <tr>\n",
       "      <th>372</th>\n",
       "      <td>373</td>\n",
       "      <td>Female</td>\n",
       "      <td>59</td>\n",
       "      <td>Nurse</td>\n",
       "      <td>8.1</td>\n",
       "      <td>9</td>\n",
       "      <td>75</td>\n",
       "      <td>3</td>\n",
       "      <td>Overweight</td>\n",
       "      <td>140/95</td>\n",
       "      <td>68</td>\n",
       "      <td>7000</td>\n",
       "      <td>Sleep Apnea</td>\n",
       "    </tr>\n",
       "    <tr>\n",
       "      <th>373</th>\n",
       "      <td>374</td>\n",
       "      <td>Female</td>\n",
       "      <td>59</td>\n",
       "      <td>Nurse</td>\n",
       "      <td>8.1</td>\n",
       "      <td>9</td>\n",
       "      <td>75</td>\n",
       "      <td>3</td>\n",
       "      <td>Overweight</td>\n",
       "      <td>140/95</td>\n",
       "      <td>68</td>\n",
       "      <td>7000</td>\n",
       "      <td>Sleep Apnea</td>\n",
       "    </tr>\n",
       "  </tbody>\n",
       "</table>\n",
       "<p>374 rows × 13 columns</p>\n",
       "</div>"
      ],
      "text/plain": [
       "     Person ID  Gender  Age            Occupation  Sleep Duration  \\\n",
       "0            1    Male   27     Software Engineer             6.1   \n",
       "1            2    Male   28                Doctor             6.2   \n",
       "2            3    Male   28                Doctor             6.2   \n",
       "3            4    Male   28  Sales Representative             5.9   \n",
       "4            5    Male   28  Sales Representative             5.9   \n",
       "..         ...     ...  ...                   ...             ...   \n",
       "369        370  Female   59                 Nurse             8.1   \n",
       "370        371  Female   59                 Nurse             8.0   \n",
       "371        372  Female   59                 Nurse             8.1   \n",
       "372        373  Female   59                 Nurse             8.1   \n",
       "373        374  Female   59                 Nurse             8.1   \n",
       "\n",
       "     Quality of Sleep  Physical Activity Level  Stress Level BMI Category  \\\n",
       "0                   6                       42             6   Overweight   \n",
       "1                   6                       60             8       Normal   \n",
       "2                   6                       60             8       Normal   \n",
       "3                   4                       30             8        Obese   \n",
       "4                   4                       30             8        Obese   \n",
       "..                ...                      ...           ...          ...   \n",
       "369                 9                       75             3   Overweight   \n",
       "370                 9                       75             3   Overweight   \n",
       "371                 9                       75             3   Overweight   \n",
       "372                 9                       75             3   Overweight   \n",
       "373                 9                       75             3   Overweight   \n",
       "\n",
       "    Blood Pressure  Heart Rate  Daily Steps Sleep Disorder  \n",
       "0           126/83          77         4200           None  \n",
       "1           125/80          75        10000           None  \n",
       "2           125/80          75        10000           None  \n",
       "3           140/90          85         3000    Sleep Apnea  \n",
       "4           140/90          85         3000    Sleep Apnea  \n",
       "..             ...         ...          ...            ...  \n",
       "369         140/95          68         7000    Sleep Apnea  \n",
       "370         140/95          68         7000    Sleep Apnea  \n",
       "371         140/95          68         7000    Sleep Apnea  \n",
       "372         140/95          68         7000    Sleep Apnea  \n",
       "373         140/95          68         7000    Sleep Apnea  \n",
       "\n",
       "[374 rows x 13 columns]"
      ]
     },
     "execution_count": 3,
     "metadata": {},
     "output_type": "execute_result"
    }
   ],
   "source": [
    "# Read the sleep health data from csv file and load it in a dataframe.\n",
    "sleep_health = pd.read_csv(\"data\\Sleep_health_and_lifestyle_dataset.csv\")\n",
    "sleep_health\n"
   ]
  },
  {
   "cell_type": "code",
   "execution_count": 4,
   "metadata": {},
   "outputs": [
    {
     "data": {
      "text/plain": [
       "Nurse                   73\n",
       "Doctor                  71\n",
       "Engineer                63\n",
       "Lawyer                  47\n",
       "Teacher                 40\n",
       "Accountant              37\n",
       "Salesperson             32\n",
       "Software Engineer        4\n",
       "Scientist                4\n",
       "Sales Representative     2\n",
       "Manager                  1\n",
       "Name: Occupation, dtype: int64"
      ]
     },
     "execution_count": 4,
     "metadata": {},
     "output_type": "execute_result"
    }
   ],
   "source": [
    "# List of occupation and count\n",
    "sleep_health['Occupation'].value_counts()"
   ]
  },
  {
   "cell_type": "code",
   "execution_count": 5,
   "metadata": {},
   "outputs": [
    {
     "data": {
      "text/html": [
       "<div>\n",
       "<style scoped>\n",
       "    .dataframe tbody tr th:only-of-type {\n",
       "        vertical-align: middle;\n",
       "    }\n",
       "\n",
       "    .dataframe tbody tr th {\n",
       "        vertical-align: top;\n",
       "    }\n",
       "\n",
       "    .dataframe thead th {\n",
       "        text-align: right;\n",
       "    }\n",
       "</style>\n",
       "<table border=\"1\" class=\"dataframe\">\n",
       "  <thead>\n",
       "    <tr style=\"text-align: right;\">\n",
       "      <th></th>\n",
       "      <th>Sleep Duration</th>\n",
       "    </tr>\n",
       "    <tr>\n",
       "      <th>Occupation</th>\n",
       "      <th></th>\n",
       "    </tr>\n",
       "  </thead>\n",
       "  <tbody>\n",
       "    <tr>\n",
       "      <th>Engineer</th>\n",
       "      <td>7.987302</td>\n",
       "    </tr>\n",
       "    <tr>\n",
       "      <th>Lawyer</th>\n",
       "      <td>7.410638</td>\n",
       "    </tr>\n",
       "    <tr>\n",
       "      <th>Accountant</th>\n",
       "      <td>7.113514</td>\n",
       "    </tr>\n",
       "    <tr>\n",
       "      <th>Nurse</th>\n",
       "      <td>7.063014</td>\n",
       "    </tr>\n",
       "    <tr>\n",
       "      <th>Doctor</th>\n",
       "      <td>6.970423</td>\n",
       "    </tr>\n",
       "    <tr>\n",
       "      <th>Manager</th>\n",
       "      <td>6.900000</td>\n",
       "    </tr>\n",
       "    <tr>\n",
       "      <th>Software Engineer</th>\n",
       "      <td>6.750000</td>\n",
       "    </tr>\n",
       "    <tr>\n",
       "      <th>Teacher</th>\n",
       "      <td>6.690000</td>\n",
       "    </tr>\n",
       "    <tr>\n",
       "      <th>Salesperson</th>\n",
       "      <td>6.403125</td>\n",
       "    </tr>\n",
       "    <tr>\n",
       "      <th>Scientist</th>\n",
       "      <td>6.000000</td>\n",
       "    </tr>\n",
       "    <tr>\n",
       "      <th>Sales Representative</th>\n",
       "      <td>5.900000</td>\n",
       "    </tr>\n",
       "  </tbody>\n",
       "</table>\n",
       "</div>"
      ],
      "text/plain": [
       "                      Sleep Duration\n",
       "Occupation                          \n",
       "Engineer                    7.987302\n",
       "Lawyer                      7.410638\n",
       "Accountant                  7.113514\n",
       "Nurse                       7.063014\n",
       "Doctor                      6.970423\n",
       "Manager                     6.900000\n",
       "Software Engineer           6.750000\n",
       "Teacher                     6.690000\n",
       "Salesperson                 6.403125\n",
       "Scientist                   6.000000\n",
       "Sales Representative        5.900000"
      ]
     },
     "execution_count": 5,
     "metadata": {},
     "output_type": "execute_result"
    }
   ],
   "source": [
    "# Calculate average Sleep Duration for each occupation \n",
    "sleep_health_sleepduration = sleep_health.groupby(['Occupation'])['Sleep Duration'].mean()\n",
    "\n",
    "# Converting the groupby object to a DataFrame\n",
    "sleep_health_sleepduration_df = pd.DataFrame(sleep_health_sleepduration)\n",
    "\n",
    "# Sorting the DataFrame in descending order of Sleep Duration\n",
    "sleep_health_sleepduration_df.sort_values(['Sleep Duration'], ascending= False)"
   ]
  },
  {
   "cell_type": "code",
   "execution_count": 6,
   "metadata": {},
   "outputs": [
    {
     "data": {
      "image/png": "[encoded data removed]",
      "text/plain": [
       "<Figure size 720x576 with 1 Axes>"
      ]
     },
     "metadata": {
      "needs_background": "light"
     },
     "output_type": "display_data"
    }
   ],
   "source": [
    "#  Plot Bar graph for the average Sleep Duration for each occupation\n",
    "sleep_health_sleepduration_df.plot(kind = \"bar\",figsize= (10,8), color = \"orange\", alpha = 0.6)\n",
    "\n",
    "# Set title, Y-label, X-label rotation\n",
    "plt.title(\"Average Sleep Duration by Occupation\")\n",
    "plt.ylabel('Average Sleep Duration (hours)')\n",
    "plt.xticks(rotation = 45, rotation_mode=\"anchor\", ha=\"right\", wrap=True)\n",
    "\n",
    "plt.show()\n"
   ]
  },
  {
   "cell_type": "code",
   "execution_count": 7,
   "metadata": {},
   "outputs": [
    {
     "data": {
      "text/html": [
       "<div>\n",
       "<style scoped>\n",
       "    .dataframe tbody tr th:only-of-type {\n",
       "        vertical-align: middle;\n",
       "    }\n",
       "\n",
       "    .dataframe tbody tr th {\n",
       "        vertical-align: top;\n",
       "    }\n",
       "\n",
       "    .dataframe thead th {\n",
       "        text-align: right;\n",
       "    }\n",
       "</style>\n",
       "<table border=\"1\" class=\"dataframe\">\n",
       "  <thead>\n",
       "    <tr style=\"text-align: right;\">\n",
       "      <th></th>\n",
       "      <th>Quality of Sleep</th>\n",
       "    </tr>\n",
       "    <tr>\n",
       "      <th>Occupation</th>\n",
       "      <th></th>\n",
       "    </tr>\n",
       "  </thead>\n",
       "  <tbody>\n",
       "    <tr>\n",
       "      <th>Engineer</th>\n",
       "      <td>8.412698</td>\n",
       "    </tr>\n",
       "    <tr>\n",
       "      <th>Lawyer</th>\n",
       "      <td>7.893617</td>\n",
       "    </tr>\n",
       "    <tr>\n",
       "      <th>Accountant</th>\n",
       "      <td>7.891892</td>\n",
       "    </tr>\n",
       "    <tr>\n",
       "      <th>Nurse</th>\n",
       "      <td>7.369863</td>\n",
       "    </tr>\n",
       "    <tr>\n",
       "      <th>Manager</th>\n",
       "      <td>7.000000</td>\n",
       "    </tr>\n",
       "    <tr>\n",
       "      <th>Teacher</th>\n",
       "      <td>6.975000</td>\n",
       "    </tr>\n",
       "    <tr>\n",
       "      <th>Doctor</th>\n",
       "      <td>6.647887</td>\n",
       "    </tr>\n",
       "    <tr>\n",
       "      <th>Software Engineer</th>\n",
       "      <td>6.500000</td>\n",
       "    </tr>\n",
       "    <tr>\n",
       "      <th>Salesperson</th>\n",
       "      <td>6.000000</td>\n",
       "    </tr>\n",
       "    <tr>\n",
       "      <th>Scientist</th>\n",
       "      <td>5.000000</td>\n",
       "    </tr>\n",
       "    <tr>\n",
       "      <th>Sales Representative</th>\n",
       "      <td>4.000000</td>\n",
       "    </tr>\n",
       "  </tbody>\n",
       "</table>\n",
       "</div>"
      ],
      "text/plain": [
       "                      Quality of Sleep\n",
       "Occupation                            \n",
       "Engineer                      8.412698\n",
       "Lawyer                        7.893617\n",
       "Accountant                    7.891892\n",
       "Nurse                         7.369863\n",
       "Manager                       7.000000\n",
       "Teacher                       6.975000\n",
       "Doctor                        6.647887\n",
       "Software Engineer             6.500000\n",
       "Salesperson                   6.000000\n",
       "Scientist                     5.000000\n",
       "Sales Representative          4.000000"
      ]
     },
     "execution_count": 7,
     "metadata": {},
     "output_type": "execute_result"
    }
   ],
   "source": [
    "#  Calculate the average Quality of Sleep for each occupation\n",
    "sleep_health_sleepquality = sleep_health.groupby(['Occupation'])['Quality of Sleep'].mean()\n",
    "sleep_health_sleepquality_df = pd.DataFrame(sleep_health_sleepquality)\n",
    "sleep_health_sleepquality_df.sort_values(['Quality of Sleep'], ascending = False)"
   ]
  },
  {
   "cell_type": "code",
   "execution_count": 8,
   "metadata": {},
   "outputs": [
    {
     "data": {
      "image/png": "[encoded data removed]",
      "text/plain": [
       "<Figure size 720x576 with 1 Axes>"
      ]
     },
     "metadata": {
      "needs_background": "light"
     },
     "output_type": "display_data"
    }
   ],
   "source": [
    "# Plot Bar graph for the average Quality of Slep for each occupation\n",
    "sleep_health_sleepquality.plot(kind = \"bar\",figsize = (10,8), color = \"red\",alpha = 0.3,\n",
    "                               title = \"Average Quality of Sleep by occupation\")\n",
    "\n",
    "# Set Y-label, X-label rotation\n",
    "plt.ylabel (\"Average Quality of Sleep\")\n",
    "plt.xticks(rotation = 50, rotation_mode=\"anchor\", ha=\"right\",  wrap = True)\n",
    "\n",
    "# \n",
    "plt.show()"
   ]
  },
  {
   "cell_type": "code",
   "execution_count": 9,
   "metadata": {},
   "outputs": [
    {
     "name": "stdout",
     "output_type": "stream",
     "text": [
      "Sleep Disorder distribution for Engineer:\n",
      " Sleep Disorder\n",
      "Insomnia        5\n",
      "None           57\n",
      "Sleep Apnea     1\n",
      "Name: Sleep Disorder, dtype: int64\n"
     ]
    }
   ],
   "source": [
    "# Engineer - Sleep Disorder distribution\n",
    "sleep_health_disorder_Eng = sleep_health.loc[sleep_health['Occupation'] == 'Engineer'].groupby(['Sleep Disorder'])['Sleep Disorder'].count()\n",
    "print(f\"Sleep Disorder distribution for Engineer:\\n {sleep_health_disorder_Eng.head()}\")"
   ]
  },
  {
   "cell_type": "code",
   "execution_count": 10,
   "metadata": {},
   "outputs": [
    {
     "name": "stdout",
     "output_type": "stream",
     "text": [
      "Sleep Disorder distribution for Sales Representative:\n",
      " Sleep Disorder\n",
      "Sleep Apnea    2\n",
      "Name: Sleep Disorder, dtype: int64\n",
      "\n",
      "Sleep Disorder distribution for Scientist:\n",
      " Sleep Disorder\n",
      "None           2\n",
      "Sleep Apnea    2\n",
      "Name: Sleep Disorder, dtype: int64\n",
      "\n",
      "Sleep Disorder distribution for Salesperson:\n",
      " Sleep Disorder\n",
      "Insomnia       29\n",
      "None            2\n",
      "Sleep Apnea     1\n",
      "Name: Sleep Disorder, dtype: int64\n"
     ]
    }
   ],
   "source": [
    "# Sales Representative - Sleep Disorder distribution\n",
    "sleep_health_disorder_SRep = sleep_health.loc[sleep_health['Occupation'] == 'Sales Representative'].groupby(['Sleep Disorder'])['Sleep Disorder'].count()\n",
    "print(f\"Sleep Disorder distribution for Sales Representative:\\n {sleep_health_disorder_SRep.head()}\")\n",
    "\n",
    "# Scientist - Sleep Disorder distribution\n",
    "sleep_health_disorder_Scientist = sleep_health.loc[sleep_health['Occupation'] == 'Scientist'].groupby(['Sleep Disorder'])['Sleep Disorder'].count()\n",
    "print(f\"\\nSleep Disorder distribution for Scientist:\\n {sleep_health_disorder_Scientist.head()}\")\n",
    "\n",
    "# Salesperson - Sleep Disorder distribution\n",
    "sleep_health_disorder_Salesperson = sleep_health.loc[sleep_health['Occupation'] == 'Salesperson'].groupby(['Sleep Disorder'])['Sleep Disorder'].count()\n",
    "print(f\"\\nSleep Disorder distribution for Salesperson:\\n {sleep_health_disorder_Salesperson.head()}\")"
   ]
  },
  {
   "cell_type": "code",
   "execution_count": 11,
   "metadata": {},
   "outputs": [
    {
     "data": {
      "image/png": "[encoded data removed]",
      "text/plain": [
       "<Figure size 576x576 with 2 Axes>"
      ]
     },
     "metadata": {},
     "output_type": "display_data"
    }
   ],
   "source": [
    "# Sub plots for Sleep Disorder Distribution - Engineer, Salesperson\n",
    "fig, (ax1,ax2) = plt.subplots(2,1, figsize = (20,20))\n",
    "fig.suptitle('Sleep Disorder Distribution - Comparison')\n",
    "\n",
    "# Set colors for the Pie chart\n",
    "color_list1 = ['lightblue','lightgreen','lightcoral']\n",
    "color_list2 = [\"blue\",\"green\",\"orange\"]\n",
    "\n",
    "# Set the Pie chart attributes\n",
    "sleep_health_disorder_Eng.plot(ax = ax1,kind = \"pie\",colors = color_list1, shadow = True,autopct = \"%1.1f%%\", \n",
    "                                figsize = (8,8), title = \"Sleep Disorder Distribution for Engineer\")\n",
    "sleep_health_disorder_Salesperson.plot(ax = ax2,kind = \"pie\", figsize=(8,8),autopct = \"%1.1f%%\",colors = color_list2,\n",
    "                                        title = \"Sleep Disorder Distribution for Salesperson\",shadow = True)\n",
    "\n",
    "# Set figure background color and fitted layout\n",
    "fig.set_facecolor(\"white\")\n",
    "fig.tight_layout()\n",
    "\n",
    "plt.show()"
   ]
  },
  {
   "cell_type": "markdown",
   "metadata": {},
   "source": [
    "### Analysis of Physical Activity Level Vs Sleep Duration and Physical Activity Level Vs Sleep Quality\n",
    "For both Physical Activity Level Vs Sleep Duration and Physical Activity Level vs Sleep Quality, positive r-value shows that there is positive correlation between them. But the r-values (0.21 and 0.19) are close to 0, so the correlation is very weak. But for both the cases, the pvalue < 0.05 means Physical Activity Level has a significant impact on Sleep Duration and Sleep Quality respectively. So there is no clear conclusion."
   ]
  },
  {
   "cell_type": "code",
   "execution_count": 12,
   "metadata": {},
   "outputs": [
    {
     "name": "stdout",
     "output_type": "stream",
     "text": [
      "Physical Activity Level Vs Sleep duration: rvalue is 0.21. pvalue is 3.4666184358494043e-05\n",
      "Physical Activity Level Vs Quality of Sleep: rvalue is 0.19. pvalue is 0.00017454895247839502\n"
     ]
    },
    {
     "data": {
      "image/png": "[encoded data removed]",
      "text/plain": [
       "<Figure size 720x360 with 2 Axes>"
      ]
     },
     "metadata": {
      "needs_background": "light"
     },
     "output_type": "display_data"
    }
   ],
   "source": [
    "# Subplots for Physical activity Level vs Sleep duration and Sleep quality\n",
    "fig_ph, (ax1_ph,ax2_ph) = plt.subplots(1,2,figsize = (10,5))\n",
    "\n",
    "# Scatter plot - Physical Activity Vs Sleep duration\n",
    "sleep_health.plot(ax = ax1_ph,kind = \"scatter\", marker = \"D\", s = 50, grid = True, color = \"magenta\", \n",
    "                  x = \"Physical Activity Level\", y = \"Sleep Duration\", title = \"Physical Activity Level Vs Sleep duration\")\n",
    "\n",
    "# Calculate Linear Regression \n",
    "slope,intercept,rvalue,pvalue,stder = st.linregress(sleep_health[\"Physical Activity Level\"],sleep_health[\"Sleep Duration\"])\n",
    "print(f\"Physical Activity Level Vs Sleep duration: rvalue is {round(rvalue,2)}. pvalue is {pvalue}\")\n",
    "\n",
    "\n",
    "# Scatter Plot Physical Activity Vs Quality of Sleep\n",
    "sleep_health.plot(ax = ax2_ph,kind = \"scatter\", x = 'Physical Activity Level', y= 'Quality of Sleep',grid =True,\n",
    "                  marker = \"s\", s=50, color = \"blue\",  title = \"Physical Activity Level Vs Quality of Sleep\")\n",
    "\n",
    "# Calculate the linear regression \n",
    "slope_q, intercept_q, rvalue_q, pvalue_q,stderr_q = st.linregress(sleep_health['Physical Activity Level'], \n",
    "                                                                  sleep_health['Quality of Sleep'])\n",
    "print(f\"Physical Activity Level Vs Quality of Sleep: rvalue is {round(rvalue_q,2)}. pvalue is {pvalue_q}\")\n",
    "\n",
    "fig_ph.tight_layout()\n",
    "plt.show()\n"
   ]
  },
  {
   "cell_type": "markdown",
   "metadata": {},
   "source": [
    "### Further Analysis with multiple independent variables\n",
    "\n",
    "Physical Activity level combined with Sleep Duration Vs Quality of Sleep has a high R² value(0.78) and so has a strong positive correlation. \n",
    "Similarly Physical Activity Level combined with Sleep Duration, Stress Level and Age Vs Quality of Sleep has a higher R² value(0.89) and so has a stronger positive correlation.\n"
   ]
  },
  {
   "cell_type": "code",
   "execution_count": 13,
   "metadata": {},
   "outputs": [
    {
     "name": "stdout",
     "output_type": "stream",
     "text": [
      "The coefficient of determination (R²) is 0.78\n"
     ]
    }
   ],
   "source": [
    "# Check the correlation between Physical Activity Level, Sleep Duration together and Quality of Sleep\n",
    "X = sleep_health[['Physical Activity Level','Sleep Duration']]\n",
    "y = sleep_health['Quality of Sleep']\n",
    "regr = linear_model.LinearRegression()\n",
    "regr.fit(X, y)\n",
    "\n",
    "# print (R²) value\n",
    "print(f\"The coefficient of determination (R²) is {round(regr.score(X,y),2)}\")\n"
   ]
  },
  {
   "cell_type": "code",
   "execution_count": 14,
   "metadata": {},
   "outputs": [
    {
     "name": "stdout",
     "output_type": "stream",
     "text": [
      "The coefficient of determination (R²) is 0.89\n"
     ]
    }
   ],
   "source": [
    "# Check the correlation between Physical Activity Level,Sleep Duration, Stess Level and Age together and Quality of Sleep\n",
    "X_2 = sleep_health[['Physical Activity Level','Sleep Duration','Stress Level', 'Age']]\n",
    "y_2 = sleep_health['Quality of Sleep']\n",
    "regr = linear_model.LinearRegression()\n",
    "regr.fit(X_2, y_2)\n",
    "\n",
    "# print (R²) value\n",
    "print(f\"The coefficient of determination (R²) is {round(regr.score(X_2,y_2),2)}\")\n"
   ]
  },
  {
   "cell_type": "markdown",
   "metadata": {},
   "source": [
    "### Conclusion:\n",
    "\n",
    "When Physical Activity Level combined with Sleep Duration, Stress Level and Age is analyzed with Quality of Sleep, it has a stronger positive correlation on Quality of Sleep.\n"
   ]
  },
  {
   "cell_type": "code",
   "execution_count": null,
   "metadata": {},
   "outputs": [],
   "source": []
  }
 ],
 "metadata": {
  "kernelspec": {
   "display_name": "dev",
   "language": "python",
   "name": "python3"
  },
  "language_info": {
   "codemirror_mode": {
    "name": "ipython",
    "version": 3
   },
   "file_extension": ".py",
   "mimetype": "text/x-python",
   "name": "python",
   "nbconvert_exporter": "python",
   "pygments_lexer": "ipython3",
   "version": "3.10.11"
  },
  "orig_nbformat": 4
 },
 "nbformat": 4,
 "nbformat_minor": 2
}
